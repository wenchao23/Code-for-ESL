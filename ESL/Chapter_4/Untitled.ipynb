{
 "cells": [
  {
   "cell_type": "code",
   "execution_count": 1,
   "id": "ee739e63",
   "metadata": {},
   "outputs": [],
   "source": [
    "import pandas as pd\n",
    "import matplotlib.pyplot as plt\n",
    "import numpy as np\n",
    "from scipy.linalg import eigh\n",
    "from scipy.special import softmax\n",
    "import ipdb\n"
   ]
  },
  {
   "cell_type": "code",
   "execution_count": 2,
   "id": "168ad60d",
   "metadata": {},
   "outputs": [],
   "source": [
    "class Regression:\n",
    "    def __initial__(self):\n",
    "        pass\n",
    "    \n",
    "    def X_arg(self,X):\n",
    "        N, _ = X.shape\n",
    "        X = np.concatenate((np.ones((N,1)),X), axis=1)\n",
    "        return X\n",
    "    \n",
    "    def scalar(self,X):\n",
    "        X_mean = np.mean(X,axis=0)\n",
    "        X_std = np.std(X,axis=0)\n",
    "        X = (X-X_mean)/X_std\n",
    "        return X_mean, X_std      \n",
    "    \n",
    "    def OLS(self, X, Y, *arg):\n",
    "        beta_hat = np.linalg.inv(X.T@X)@X.T@(Y-np.mean(Y,0))       \n",
    "        beta_hat = np.insert(beta_hat,0,np.mean(Y,0),0)\n",
    "        return beta_hat\n"
   ]
  },
  {
   "cell_type": "code",
   "execution_count": 3,
   "id": "f4eb0aeb",
   "metadata": {},
   "outputs": [],
   "source": [
    "class classification():\n",
    "    def __init__(self,n_component =2 ):\n",
    "        self.n_component = n_component\n",
    "        \n",
    "    \n",
    "    def LDA(self,X,label):\n",
    "        N, p = np.shape(X)\n",
    "        self.label_list, _ = np.unique(y_train, return_inverse=True) \n",
    "        self.cov_ = []\n",
    "        self.m = np.mean(X, 0).reshape((1,p))\n",
    "        St = np.cov(X.T, bias=1)\n",
    "        _, label_t = np.unique(label, return_inverse=True) \n",
    "        self.w = np.bincount(label_t)/float(len(label))\n",
    "        \n",
    "        for i in self.label_list:\n",
    "            ind = label == i\n",
    "            self.cov_.append(np.cov(X[ind,:].T, bias=1))\n",
    "        \n",
    "        Sw = np.average(self.cov_, axis=0, weights=self.w)\n",
    "        self.cova = Sw\n",
    "        Sb = St - Sw\n",
    "        eigvals, self.eigvecs = eigh(Sb, Sw)\n",
    "\n",
    "       \n",
    "        idx = eigvals.argsort()[::-1]   \n",
    "        eigvals = eigvals[idx]\n",
    "        self.eigvecs = self.eigvecs[:,idx]\n",
    "        v = (X-self.m)@self.eigvecs\n",
    "        self.wmean = np.zeros((len(self.label_list),self.n_component))\n",
    "        self.wcov = np.zeros((p,p,len(self.label_list)))\n",
    "        self.cmean = np.zeros((len(self.label_list),p))\n",
    "        for i in label:\n",
    "            self.wmean[i-1,:] = np.array([np.mean(v[label == i,0:self.n_component],0)])\n",
    "            self.cmean[i-1,:] = np.array([np.mean(X[label == i,:],0)])\n",
    "            self.wcov[:,:,i-1] = np.cov(v[label == i,:].T) \n",
    "        self.coef_ = self.cmean@self.eigvecs@self.eigvecs.T\n",
    "        self.intercept_ = -0.5 * np.diag(self.cmean@self.coef_.T) + np.log(self.w)\n",
    "\n",
    "        return  v[:,0:self.n_component]\n",
    "    def LDA_trasform(self,X):\n",
    "        v = (X-self.m)@self.eigvecs\n",
    "        return v   \n",
    "\n",
    "    \n",
    "    def LDA_pred(self,X):\n",
    "        return self.label_list[np.argmax((X@self.coef_.T+self.intercept_),1)] #Linear score function        \n",
    "\n",
    "    \n",
    "    def QDA(self,X,label,alpha = 1):\n",
    "        _ = self.LDA(X,label)\n",
    "        N, p = np.shape(X)\n",
    "        self.cmean_QDA = self.cmean\n",
    "        self.w_QDA = self.w\n",
    "        self.cov_QDA = []\n",
    "        for i in np.arange(0,len(self.label_list)):\n",
    "            self.cov_QDA.append(alpha*self.cov_[:][:][i] + (1-alpha)*self.cova)\n",
    "        score = []\n",
    "\n",
    "    def QDA_prd(self,X):\n",
    "        score = []\n",
    "\n",
    "        for i in self.label_list:\n",
    "            score.append(-1/2*np.diag((X-self.cmean_QDA[i-1,:])@np.linalg.inv(self.cov_QDA[:][:][i-1])@(X-self.cmean_QDA[i-1,:]).T)-\\\n",
    "                     1/2*np.log(np.linalg.det(self.cov_QDA[:][:][i-1]))+1/2*np.log(self.w_QDA[i-1]))\n",
    "        return score\n",
    "    \n",
    "    def Log(self,X,label,mu = 0.01,max_iter=1000, eta = 0.1):\n",
    "        \n",
    "        self.label_list, _ = np.unique(label, return_inverse=True) \n",
    "        label = self.OneHotDecoder(label)\n",
    "        self.W = np.zeros((X.shape[1], label.shape[1]))\n",
    "        step = 0\n",
    "        \n",
    "        while step < max_iter:\n",
    "            \n",
    "            \n",
    "            Z = -X@self.W\n",
    "            \n",
    "            Ps = softmax(Z,1)\n",
    "            N,_ = X.shape\n",
    "            gd = 1/N*(X.T @ (label-Ps)) + 2*mu*self.W\n",
    "            self.W = self.W - eta*gd\n",
    "            step =step + 1\n",
    "            \n",
    "    def Log_pred(self, X):\n",
    "        Z = -X@self.W\n",
    "        \n",
    "        return self.label_list[np.argmax(softmax(Z,1),1)]\n",
    "         \n",
    "    def OneHotDecoder(self, Y):\n",
    "        \n",
    "        self.label_list, _ = np.unique(Y, return_inverse=True) \n",
    "        N = len(Y)\n",
    "        OHM = np.zeros((N,len(self.label_list)))\n",
    "       \n",
    "        for i in self.label_list: OHM[Y == i,i-1]=1\n",
    "        return OHM\n",
    "        \n",
    "\n"
   ]
  },
  {
   "cell_type": "code",
   "execution_count": 4,
   "id": "b213edc2",
   "metadata": {},
   "outputs": [],
   "source": [
    "\n",
    "df = pd.read_csv('Vowel.txt')\n",
    "list(df)\n",
    "index_train = df['is_train'] == 1\n",
    "\n",
    "x_train = df[index_train]\n",
    "N,p = np.shape(x_train)\n",
    "\n",
    "x_train = x_train.drop(['row.names','is_train'], axis=1)\n",
    "y_train = x_train['y'].values.reshape((N,))\n",
    "x_train = x_train.drop('y', axis=1).values\n",
    "label_train = np.unique(y_train)\n",
    "\n",
    "index_test = df['is_train'] == 0\n",
    "\n",
    "x_test = df[index_test]\n",
    "N_test,_ = np.shape(x_test)\n",
    "x_test = x_test.drop(['row.names','is_train'], axis=1)\n",
    "y_test = x_test['y'].values.reshape((N_test,))\n",
    "x_test = x_test.drop('y', axis=1).values\n",
    "label_test = np.unique(y_test)\n",
    "\n",
    "Y = df['y'].values.reshape((N+N_test,))\n",
    "X = df.drop(['row.names','is_train','y'], axis=1).values\n",
    "\n"
   ]
  },
  {
   "cell_type": "markdown",
   "id": "0339e8a2",
   "metadata": {},
   "source": [
    "## Figure 4.4"
   ]
  },
  {
   "cell_type": "code",
   "execution_count": 5,
   "id": "6e116fba",
   "metadata": {
    "scrolled": false
   },
   "outputs": [
    {
     "data": {
      "image/png": "[encoded data removed]",
      "text/plain": [
       "<Figure size 576x504 with 1 Axes>"
      ]
     },
     "metadata": {
      "needs_background": "light"
     },
     "output_type": "display_data"
    },
    {
     "name": "stdout",
     "output_type": "stream",
     "text": [
      "0.32 0.56\n"
     ]
    }
   ],
   "source": [
    "MyCla = classification(n_component = 2)\n",
    "v = MyCla.LDA(x_train,y_train)\n",
    "\n",
    "fig = plt.figure(figsize=(8,7))\n",
    "[plt.scatter(v[y_train == i,0],v[y_train == i,1]) for i in label_train]\n",
    "[plt.plot(np.mean(v[y_train == i,0]),np.mean(v[y_train == i,1]),'x',markersize = 12) for i in label_train]\n",
    "plt.xlabel('Canoical Coor 1')\n",
    "plt.ylabel('Canoical Coor 2')\n",
    "plt.show()\n",
    "\n",
    "error_LDA_train = np.count_nonzero(MyCla.LDA_pred(x_train)-y_train)/N\n",
    "error_LDA_test = np.count_nonzero(MyCla.LDA_pred(x_test)-y_test)/N_test\n",
    "print(f'{error_LDA_train:.2f} {error_LDA_test:.2f}')"
   ]
  },
  {
   "cell_type": "code",
   "execution_count": 6,
   "id": "316c8884",
   "metadata": {},
   "outputs": [
    {
     "name": "stdout",
     "output_type": "stream",
     "text": [
      "0.01 0.53\n"
     ]
    }
   ],
   "source": [
    "MyCla.QDA(x_train,y_train)\n",
    "error_QDA_train = np.count_nonzero(np.argmax(MyCla.QDA_prd(x_train),0)+1-y_train)/N\n",
    "error_QDA_test = np.count_nonzero(np.argmax(MyCla.QDA_prd(x_test),0)+1-y_test)/N_test\n",
    "print(f'{error_QDA_train:.2f} {error_QDA_test:.2f}')\n"
   ]
  },
  {
   "cell_type": "markdown",
   "id": "af55b68f",
   "metadata": {},
   "source": [
    "## Figure 4.7"
   ]
  },
  {
   "cell_type": "code",
   "execution_count": 7,
   "id": "c8196b43",
   "metadata": {},
   "outputs": [
    {
     "data": {
      "image/png": "[encoded data removed]",
      "text/plain": [
       "<Figure size 576x504 with 1 Axes>"
      ]
     },
     "metadata": {
      "needs_background": "light"
     },
     "output_type": "display_data"
    }
   ],
   "source": [
    "fig, ax = plt.subplots(figsize=(8,7))\n",
    "error_QDA_train_alpha = []\n",
    "error_QDA_test_alpha = []\n",
    "alpha = np.linspace(0, 1, 50)\n",
    "for i in alpha:\n",
    "#     ipdb.runcall(MyCla.QDA,x_train,y_train,alpha = i)\n",
    "    MyCla.QDA(x_train,y_train,alpha = i)\n",
    "    error_QDA_train_alpha= np.append(error_QDA_train_alpha,np.count_nonzero(np.argmax(MyCla.QDA_prd(x_train),0)+1-y_train)/N)\n",
    "    error_QDA_test_alpha = np.append(error_QDA_test_alpha,np.count_nonzero(np.argmax(MyCla.QDA_prd(x_test),0)+1-y_test)/N_test)\n",
    "ax.plot(alpha,error_QDA_train_alpha,'.') \n",
    "ax.plot(alpha,error_QDA_test_alpha,'.')\n",
    "ax.legend(['train data', 'test data'])\n",
    "plt.xlabel(r'$\\alpha$')\n",
    "plt.ylabel(r'Error rate')\n",
    "plt.show()"
   ]
  },
  {
   "cell_type": "code",
   "execution_count": 8,
   "id": "88b99d50",
   "metadata": {},
   "outputs": [
    {
     "ename": "AttributeError",
     "evalue": "'Regression' object has no attribute 'OneHotDecoder'",
     "output_type": "error",
     "traceback": [
      "\u001b[0;31m---------------------------------------------------------------------------\u001b[0m",
      "\u001b[0;31mAttributeError\u001b[0m                            Traceback (most recent call last)",
      "Input \u001b[0;32mIn [8]\u001b[0m, in \u001b[0;36m<cell line: 6>\u001b[0;34m()\u001b[0m\n\u001b[1;32m      3\u001b[0m x_train_sca \u001b[38;5;241m=\u001b[39m (x_train \u001b[38;5;241m-\u001b[39m x_mean)\u001b[38;5;241m/\u001b[39mx_std\n\u001b[1;32m      4\u001b[0m x_test_sca \u001b[38;5;241m=\u001b[39m (x_test \u001b[38;5;241m-\u001b[39m x_mean)\u001b[38;5;241m/\u001b[39mx_std\n\u001b[0;32m----> 6\u001b[0m y_train_OHM \u001b[38;5;241m=\u001b[39m \u001b[43mMyReg\u001b[49m\u001b[38;5;241;43m.\u001b[39;49m\u001b[43mOneHotDecoder\u001b[49m(y_train)\n\u001b[1;32m      8\u001b[0m beta_hat_LS \u001b[38;5;241m=\u001b[39m MyReg\u001b[38;5;241m.\u001b[39mOLS((x_train_sca),y_train_OHM)\n\u001b[1;32m      9\u001b[0m y_train_LS \u001b[38;5;241m=\u001b[39m MyReg\u001b[38;5;241m.\u001b[39mX_arg(x_train_sca)\u001b[38;5;129m@beta_hat_LS\u001b[39m\n",
      "\u001b[0;31mAttributeError\u001b[0m: 'Regression' object has no attribute 'OneHotDecoder'"
     ]
    }
   ],
   "source": [
    "MyReg = Regression()\n",
    "x_mean, x_std = MyReg.scalar(X)\n",
    "x_train_sca = (x_train - x_mean)/x_std\n",
    "x_test_sca = (x_test - x_mean)/x_std\n",
    "\n",
    "y_train_OHM = MyReg.OneHotDecoder(y_train)\n",
    "\n",
    "beta_hat_LS = MyReg.OLS((x_train_sca),y_train_OHM)\n",
    "y_train_LS = MyReg.X_arg(x_train_sca)@beta_hat_LS\n",
    "y_test_LS = MyReg.X_arg(x_test_sca)@beta_hat_LS\n",
    "error_OLS_train = np.count_nonzero(np.argmax(y_train_LS,1)+1-y_train)/N\n",
    "error_OLS_test = np.count_nonzero(np.argmax(y_test_LS,1)+1-y_test)/N_test\n",
    "print(f'{error_OLS_train:.2f} {error_OLS_test:.2f}')\n"
   ]
  },
  {
   "cell_type": "markdown",
   "id": "5bfe4668",
   "metadata": {},
   "source": [
    "## Figure 4.10"
   ]
  },
  {
   "cell_type": "code",
   "execution_count": null,
   "id": "6ef0ab54",
   "metadata": {},
   "outputs": [],
   "source": [
    "fig = plt.figure(figsize=(8,7))\n",
    "error_test = []\n",
    "error_train = []\n",
    "MyCla = classification(n_component = 10)\n",
    "X_train_reduced = MyCla.LDA(x_train,y_train)\n",
    "X_test_reduced = MyCla.LDA_trasform(x_test)\n",
    "for i in np.arange(2,11):\n",
    "    MyCla = classification(n_component = i)\n",
    "    _  = MyCla.LDA(X_train_reduced[:,:i],y_train)\n",
    "    error_train = np.append(error_train,np.count_nonzero(MyCla.LDA_pred(X_train_reduced[:,:i])-y_train)/N)\n",
    "    error_test = np.append(error_test,np.count_nonzero(MyCla.LDA_pred(X_test_reduced[:,:i])-y_test)/N_test)\n",
    "\n",
    "plt.plot(np.arange(2,11),error_test,'.-')\n",
    "plt.plot(np.arange(2,11),error_train,'.-')\n",
    "plt.ylim([0.2,0.7])\n",
    "plt.show()"
   ]
  },
  {
   "cell_type": "markdown",
   "id": "16820f8f",
   "metadata": {},
   "source": [
    "## Figure 4.8"
   ]
  },
  {
   "cell_type": "code",
   "execution_count": null,
   "id": "86988554",
   "metadata": {
    "scrolled": true
   },
   "outputs": [],
   "source": [
    "fig, axarr = plt.subplots(2, 2, figsize=(10, 10))\n",
    "[axarr[0,0].scatter(X_train_reduced[y_train == i,0],-X_train_reduced[y_train == i,2]) for i in label_train]\n",
    "axarr[0,0].set_xlabel('Coordinate 1')\n",
    "axarr[0,0].set_ylabel('Coordinate 3')\n",
    "\n",
    "[axarr[0,1].scatter(X_train_reduced[y_train == i,1],-X_train_reduced[y_train == i,2]) for i in label_train]\n",
    "axarr[0,1].set_xlabel('Coordinate 2')\n",
    "axarr[0,1].set_ylabel('Coordinate 3')\n",
    "\n",
    "[axarr[1,0].scatter(X_train_reduced[y_train == i,0],-X_train_reduced[y_train == i,6]) for i in label_train]\n",
    "axarr[1,0].set_xlabel('Coordinate 1')\n",
    "axarr[1,0].set_ylabel('Coordinate 7')\n",
    "\n",
    "[axarr[1,1].scatter(X_train_reduced[y_train == i,8],-X_train_reduced[y_train == i,9]) for i in label_train]\n",
    "axarr[1,1].set_xlabel('Coordinate 9')\n",
    "axarr[1,1].set_ylabel('Coordinate 10')\n",
    "plt.show()"
   ]
  },
  {
   "cell_type": "markdown",
   "id": "8006a89b",
   "metadata": {},
   "source": [
    "## Figure 4.11"
   ]
  },
  {
   "cell_type": "code",
   "execution_count": null,
   "id": "d722c7bc",
   "metadata": {
    "scrolled": true
   },
   "outputs": [],
   "source": [
    "MyCla = classification(n_component = 2)\n",
    "X_train_reduced = MyCla.LDA(x_train,y_train)\n",
    "fig, ax = plt.subplots(figsize=(8,7))\n",
    "mean = np.zeros((len(label_train),2))\n",
    "for i in label_train:\n",
    "    mean[i-1,:] = np.array([np.mean(X_train_reduced[y_train == i,0]),np.mean(X_train_reduced[y_train == i,1])])\n",
    "from scipy import spatial\n",
    "spatial.voronoi_plot_2d(spatial.Voronoi(mean),ax=ax,line_width=2, line_alpha=0.6, point_size=2,show_vertices=False)\n",
    "\n",
    "[plt.scatter(X_train_reduced[y_train == i,0],X_train_reduced[y_train == i,1]) for i in label_train]\n",
    "[plt.plot(mean[i-1,0],mean[i-1,1],'+',markersize=12) for i in label_train]\n",
    "plt.xlim([-5,5])\n",
    "plt.ylim([-7,5])\n",
    "plt.xlabel('Canoical Coor 1')\n",
    "plt.ylabel('Canoical Coor 2')\n",
    "\n",
    "plt.show()\n"
   ]
  },
  {
   "cell_type": "code",
   "execution_count": null,
   "id": "b82dae26",
   "metadata": {},
   "outputs": [],
   "source": [
    "MyCla.QDA(v,y_train)\n",
    "grid_size = 150\n",
    "fig, ax = plt.subplots(figsize=(4.5, 3.65), dpi=110)\n",
    "\n",
    "X = np.transpose([np.tile(np.linspace(-4.5, 5, grid_size), grid_size),\n",
    "                  np.repeat(np.linspace(-6.5, 4.5, grid_size), grid_size)])\n",
    "y = np.argmax(MyCla.QDA_prd(X),0)\n",
    "# y = rda.predict(X)\n",
    "X0 = X[:, 0].reshape(grid_size, grid_size)\n",
    "X1 = X[:, 1].reshape(grid_size, grid_size)\n",
    "\n",
    "Y = y.reshape(grid_size, grid_size)\n",
    "_ = ax.contour(X0, X1, Y, np.linspace(0, 9, 10), \n",
    "               linewidths=[0.7]*10,cmap=plt.cm.Paired)\n",
    "[plt.scatter(X_train_reduced[y_train == i,0],X_train_reduced[y_train == i,1]) for i in label_train]\n",
    "[plt.plot(mean[i-1,0],mean[i-1,1],'+',markersize=12) for i in label_train]\n",
    "\n",
    "plt.xlabel('Canoical Coor 1')\n",
    "plt.ylabel('Canoical Coor 2')\n",
    "plt.show()"
   ]
  },
  {
   "cell_type": "markdown",
   "id": "d0a6e94c",
   "metadata": {},
   "source": [
    "## Table 4.1"
   ]
  },
  {
   "cell_type": "code",
   "execution_count": null,
   "id": "8ff4c090",
   "metadata": {},
   "outputs": [],
   "source": [
    "print('------------------------------------------------------')\n",
    "print('                      Technique         Error Rates')\n",
    "print('                                      ----------------')\n",
    "print('                                      Training   Test')\n",
    "print('------------------------------------------------------')\n",
    "print('              Linear Regression      ',f'{error_OLS_train:<11.2f}{error_OLS_test:<0.2f}')\n",
    "print('   Linear discriminant analysis      ',f'{error_LDA_train:<11.2f}{error_LDA_test:<0.2f}')\n",
    "print('Quadratic discriminant analysis      ',f'{error_QDA_train:<11.2f}{error_QDA_test:<0.2f}')\n"
   ]
  },
  {
   "cell_type": "markdown",
   "id": "f1073d0b",
   "metadata": {},
   "source": [
    "## Logistic Regression"
   ]
  },
  {
   "cell_type": "code",
   "execution_count": null,
   "id": "d5349546",
   "metadata": {},
   "outputs": [],
   "source": [
    "MyCla = classification\n",
    "MyCla.Log(x_train,y_train)\n",
    "print(f'{(np.count_nonzero(MyCla.Log_pred(x_train)-y_train))/N:<.2f}')\n",
    "print(f'{(np.count_nonzero(MyCla.Log_pred(x_test)-y_test))/N_test:<.2f}')\n"
   ]
  },
  {
   "cell_type": "code",
   "execution_count": null,
   "id": "03f6c9f6",
   "metadata": {},
   "outputs": [],
   "source": [
    "# # from sympy import symbols, solve\n",
    "# def plot_boundary(arg):\n",
    "#     mean1 = arg['mean1']\n",
    "#     mean2 = arg['mean2']\n",
    "#     cov1 = arg['cov1']\n",
    "#     cov2 = arg['cov2']\n",
    "#     w1 = arg['w1']\n",
    "#     w2  = arg['w2']\n",
    "#     y = arg['y']\n",
    "#     mx1 = mean1[0]\n",
    "#     my1 = mean1[1]\n",
    "#     mx2 = mean2[0]\n",
    "#     my2 = mean2[1]   \n",
    "    \n",
    "#     s11 = cov1[0,0]\n",
    "#     s12 = cov1[0,1]\n",
    "#     s22 = cov1[1,1]\n",
    "    \n",
    "#     d11 = cov2[0,0]\n",
    "#     d12 = cov2[0,1]\n",
    "#     d22 = cov2[1,1]\n",
    "    \n",
    "#     x1 = (1/(2*(d22/(d12**2 - d11*d22) - s22/(s12**2 - s11*s22))))*((2*d22*mx2)/(d12**2 - d11*d22) - (2*d12*my2)/(d12**2 - d11*d22) + \n",
    "#    (2*my1*s12)/(s12**2 - s11*s22) - (2*mx1*s22)/(s12**2 - s11*s22) + (2*d12*y)/(d12**2 - d11*d22) - (2*s12*y)/(s12**2 - s11*s22) - \n",
    "#   np.sqrt((-((2*d22*mx2)/(d12**2 - d11*d22)) + (2*d12*my2)/(d12**2 - d11*d22) - (2*my1*s12)/(s12**2 - s11*s22) + (2*mx1*s22)/(s12**2 - s11*s22) - \n",
    "#        (2*d12*y)/(d12**2 - d11*d22) + (2*s12*y)/(s12**2 - s11*s22))**2 - 4*(d22/(d12**2 - d11*d22) - s22/(s12**2 - s11*s22))*\n",
    "#       ((d22*mx2**2)/(d12**2 - d11*d22) - (2*d12*mx2*my2)/(d12**2 - d11*d22) + (d11*my2**2)/(d12**2 - d11*d22) - (my1**2*s11)/(s12**2 - s11*s22) + \n",
    "#        (2*mx1*my1*s12)/(s12**2 - s11*s22) - (mx1**2*s22)/(s12**2 - s11*s22) + (2*d12*mx2*y)/(d12**2 - d11*d22) - (2*d11*my2*y)/(d12**2 - d11*d22) + \n",
    "#        (2*my1*s11*y)/(s12**2 - s11*s22) - (2*mx1*s12*y)/(s12**2 - s11*s22) + (d11*y**2)/(d12**2 - d11*d22) - (s11*y**2)/(s12**2 - s11*s22))))\n",
    "    \n",
    "#     x2 = (1/(d22/(d12**2 - d11*d22) + s22/(-s12**2 + s11*s22)))*((d22*mx2)/(d12**2 - d11*d22) + (d12*my2)/(-d12**2 + d11*d22) + \n",
    "#    (my1*s12)/(s12**2 - s11*s22) + (mx1*s22)/(-s12**2 + s11*s22) + (d12*y)/(d12**2 - d11*d22) + (s12*y)/(-s12**2 + s11*s22) + \n",
    "#    np.sqrt((1/((d12**2 - d11*d22)*(s12**2 - s11*s22)))*(d22*my1**2*s11 - 2*d22*mx1*my1*s12 + 2*d22*mx2*my1*s12 + my2**2*s12**2 + d22*mx1**2*s22 - \n",
    "#       2*d22*mx1*mx2*s22 + d22*mx2**2*s22 - my2**2*s11*s22 + d11*((-d22)*(my1 - y)**2 + s22*(my2 - y)**2) + d12**2*(my1 - y)**2 - 2*d22*my1*s11*y + \n",
    "#       2*d22*mx1*s12*y - 2*d22*mx2*s12*y - 2*my2*s12**2*y + 2*my2*s11*s22*y + d22*s11*y**2 + s12**2*y**2 - s11*s22*y**2 + \n",
    "#       2*d12*(my2 - y)*((-my1)*s12 + mx1*s22 - mx2*s22 + s12*y))))\n",
    "\n",
    "#     x, y, mean1, mean2, cov1, cov2, w1, w2 = symbols('x y m1_x m1_y m1 cov1 cov2 w1 w2')\n",
    "#     M=sympy.Matrix([[a**2, a+b],[a*c+b, b/c]])\n",
    "#     expr1 = -1/2*((np.array([x,y])-mean1)@np.linalg.inv(cov1)@(np.array([x,y])-mean1).T)-\\\n",
    "#                      1/2*np.log(np.linalg.det(cov1))+1/2*np.log(w1)\n",
    "#     expr2 = -1/2*((np.array([x,y])-mean2)@np.linalg.inv(cov2)@(np.array([x,y])-mean2).T)-\\\n",
    "#                      1/2*np.log(np.linalg.det(cov2))+1/2*np.log(w2)\n",
    "    \n",
    "#     expr = expr1-expr2\n",
    "#     return x1,x2\n",
    "# import warnings\n",
    "# warnings.filterwarnings('ignore')\n",
    "\n",
    "# yy = np.arange(-5,5,.01)\n",
    "# for i in np.arange(0,1):\n",
    "# #     print(i)\n",
    "#     for j in np.arange(i+1,11):\n",
    "#         arg = {'mean1': MyCla.cmean_QDA[i,:],'mean2' : MyCla.cmean_QDA[j,:],\\\n",
    "#          'cov1' : MyCla.cov_QDA[:][:][i],'cov2' : MyCla.cov_QDA[:][:][j],\\\n",
    "#          'w1' : MyCla.w[i],'w2':MyCla.w[j],'y':yy}\n",
    "#         x1,x2 = plot_boundary(arg)\n",
    "# #         plt.plot(x2,yy)\n",
    "#         ind1 = ~np.isnan(x1)\n",
    "#         ind2 = ~np.isnan(x2)\n",
    "        \n",
    "#         cl1 = np.argmax(MyCla.QDA_prd(np.array([x1[ind1],yy[ind1]]).T),0)\n",
    "#         ind3 = np.where((cl1 == i+1) + (cl1== j +1))\n",
    "#         plt.plot(x1[ind3],yy[ind3],'k')\n",
    "        \n",
    "#         cl2 = np.argmax(MyCla.QDA_prd(np.array([x2[ind2],yy[ind1]]).T),0)\n",
    "#         ind4 = np.where((cl2 == i+1) + (cl2== j +1))        \n",
    "#         plt.plot(x2[ind4],yy[ind4],'k')\n",
    "# #         plt.plot(x2[ind2],yy[ind2])\n",
    "# #         if np.max(np.abs(x2))<6:\n",
    "# #            plt.plot(x2,yy)\n",
    "# #         if np.max(np.abs(x1))<6:\n",
    "# #            plt.plot(x1,yy)\n",
    "# # [plt.scatter(X_train_reduced[y_train == i,0],X_train_reduced[y_train == i,1]) for i in label_train]\n",
    "# [plt.scatter(X_train_reduced[y_train == i,0],X_train_reduced[y_train == i,1]) for i in (1,3)]\n"
   ]
  }
 ],
 "metadata": {
  "kernelspec": {
   "display_name": "Python 3 (ipykernel)",
   "language": "python",
   "name": "python3"
  },
  "language_info": {
   "codemirror_mode": {
    "name": "ipython",
    "version": 3
   },
   "file_extension": ".py",
   "mimetype": "text/x-python",
   "name": "python",
   "nbconvert_exporter": "python",
   "pygments_lexer": "ipython3",
   "version": "3.8.2"
  }
 },
 "nbformat": 4,
 "nbformat_minor": 5
}
